{
  "nbformat": 4,
  "nbformat_minor": 0,
  "metadata": {
    "colab": {
      "provenance": [],
      "authorship_tag": "ABX9TyMjH6VYZ1F29vQNTidl2JPS",
      "include_colab_link": true
    },
    "kernelspec": {
      "name": "python3",
      "display_name": "Python 3"
    },
    "language_info": {
      "name": "python"
    }
  },
  "cells": [
    {
      "cell_type": "markdown",
      "metadata": {
        "id": "view-in-github",
        "colab_type": "text"
      },
      "source": [
        "<a href=\"https://colab.research.google.com/github/PolyanskayaP/LevenshteinDistance/blob/main/LevenshteinS.ipynb\" target=\"_parent\"><img src=\"https://colab.research.google.com/assets/colab-badge.svg\" alt=\"Open In Colab\"/></a>"
      ]
    },
    {
      "cell_type": "markdown",
      "source": [
        "**python-Levenshtein**"
      ],
      "metadata": {
        "id": "2YycQny2NMXe"
      }
    },
    {
      "cell_type": "code",
      "source": [
        "!pip install python-Levenshtein"
      ],
      "metadata": {
        "id": "djS3X9fnMj2f"
      },
      "execution_count": null,
      "outputs": []
    },
    {
      "cell_type": "code",
      "source": [
        "from Levenshtein import distance as lev"
      ],
      "metadata": {
        "id": "zC30MMNBMfMT"
      },
      "execution_count": null,
      "outputs": []
    },
    {
      "cell_type": "code",
      "execution_count": null,
      "metadata": {
        "colab": {
          "base_uri": "https://localhost:8080/"
        },
        "id": "kuP8_Qj0MZcp",
        "outputId": "c37a0d08-8c2e-498f-9c2f-72640bd6b6fd"
      },
      "outputs": [
        {
          "output_type": "execute_result",
          "data": {
            "text/plain": [
              "2"
            ]
          },
          "metadata": {},
          "execution_count": 6
        }
      ],
      "source": [
        "lev('вдох', 'вход')"
      ]
    },
    {
      "cell_type": "markdown",
      "source": [
        "**strsimpy**"
      ],
      "metadata": {
        "id": "El0tedUMNQ6_"
      }
    },
    {
      "cell_type": "code",
      "source": [
        "!pip install strsimpy"
      ],
      "metadata": {
        "colab": {
          "base_uri": "https://localhost:8080/"
        },
        "id": "EGUQPisCNVn_",
        "outputId": "82384c32-887d-4c10-e399-41a032f952dd"
      },
      "execution_count": null,
      "outputs": [
        {
          "output_type": "stream",
          "name": "stdout",
          "text": [
            "Collecting strsimpy\n",
            "  Downloading strsimpy-0.2.1-py3-none-any.whl (45 kB)\n",
            "\u001b[?25l     \u001b[90m━━━━━━━━━━━━━━━━━━━━━━━━━━━━━━━━━━━━━━━━\u001b[0m \u001b[32m0.0/45.9 kB\u001b[0m \u001b[31m?\u001b[0m eta \u001b[36m-:--:--\u001b[0m\r\u001b[2K     \u001b[90m━━━━━━━━━━━━━━━━━━━━━━━━━━━━━━━━━━━━━━━━\u001b[0m \u001b[32m45.9/45.9 kB\u001b[0m \u001b[31m1.3 MB/s\u001b[0m eta \u001b[36m0:00:00\u001b[0m\n",
            "\u001b[?25hInstalling collected packages: strsimpy\n",
            "Successfully installed strsimpy-0.2.1\n"
          ]
        }
      ]
    },
    {
      "cell_type": "code",
      "source": [
        "from strsimpy.levenshtein import Levenshtein\n",
        "\n",
        "levenshtein = Levenshtein()\n",
        "print(levenshtein.distance('бомба', 'б0мб@'))\n",
        "print(levenshtein.distance('цыпленок', 'полина'))\n",
        "print(levenshtein.distance('вход', 'вдох'))"
      ],
      "metadata": {
        "colab": {
          "base_uri": "https://localhost:8080/"
        },
        "id": "1a4rpOXvOYSv",
        "outputId": "c18256c1-ff8f-4bd6-e6e1-cb12de0a79f6"
      },
      "execution_count": null,
      "outputs": [
        {
          "output_type": "stream",
          "name": "stdout",
          "text": [
            "2\n",
            "6\n",
            "2\n"
          ]
        }
      ]
    },
    {
      "cell_type": "markdown",
      "source": [
        "**fuzzywuzzy (немного о другом)**"
      ],
      "metadata": {
        "id": "zEJyLh5ZPUDX"
      }
    },
    {
      "cell_type": "code",
      "source": [
        "!pip install fuzzywuzzy"
      ],
      "metadata": {
        "id": "_tKoOL-jPWPg"
      },
      "execution_count": null,
      "outputs": []
    },
    {
      "cell_type": "code",
      "source": [
        "from fuzzywuzzy import fuzz\n",
        "from fuzzywuzzy import process"
      ],
      "metadata": {
        "id": "HPNuo7WVPfW9"
      },
      "execution_count": null,
      "outputs": []
    },
    {
      "cell_type": "code",
      "source": [
        "fuzz.ratio(\"вход\", \"вдох\")"
      ],
      "metadata": {
        "colab": {
          "base_uri": "https://localhost:8080/"
        },
        "id": "-5OfpWCoRfsI",
        "outputId": "6aa52edb-48e5-4f5f-9adc-216f8df423fc"
      },
      "execution_count": null,
      "outputs": [
        {
          "output_type": "execute_result",
          "data": {
            "text/plain": [
              "50"
            ]
          },
          "metadata": {},
          "execution_count": 32
        }
      ]
    },
    {
      "cell_type": "code",
      "source": [
        "fuzz.ratio(\"цыпленок\", \"полина\")"
      ],
      "metadata": {
        "colab": {
          "base_uri": "https://localhost:8080/"
        },
        "id": "-hqmITkERy59",
        "outputId": "a4d345d9-13e3-4012-85d6-2a0294e08dc0"
      },
      "execution_count": null,
      "outputs": [
        {
          "output_type": "execute_result",
          "data": {
            "text/plain": [
              "43"
            ]
          },
          "metadata": {},
          "execution_count": 33
        }
      ]
    },
    {
      "cell_type": "markdown",
      "source": [
        "Simple Ratio"
      ],
      "metadata": {
        "id": "P167SJIBQdJn"
      }
    },
    {
      "cell_type": "code",
      "source": [
        "fuzz.ratio(\"this is a test\", \"this is a test!\")"
      ],
      "metadata": {
        "colab": {
          "base_uri": "https://localhost:8080/"
        },
        "id": "qGALAGBRQewQ",
        "outputId": "f56deb65-2492-4ab0-cbe2-a5b1e62bebda"
      },
      "execution_count": null,
      "outputs": [
        {
          "output_type": "execute_result",
          "data": {
            "text/plain": [
              "97"
            ]
          },
          "metadata": {},
          "execution_count": 21
        }
      ]
    },
    {
      "cell_type": "markdown",
      "source": [
        "Partial Ratio"
      ],
      "metadata": {
        "id": "jYDpHR4eQge6"
      }
    },
    {
      "cell_type": "code",
      "source": [
        "fuzz.partial_ratio(\"this is a test\", \"this is a test!\")"
      ],
      "metadata": {
        "colab": {
          "base_uri": "https://localhost:8080/"
        },
        "id": "vnOwBYt_Qh2z",
        "outputId": "277c71a8-353f-42e6-d186-ca33934f4857"
      },
      "execution_count": null,
      "outputs": [
        {
          "output_type": "execute_result",
          "data": {
            "text/plain": [
              "100"
            ]
          },
          "metadata": {},
          "execution_count": 22
        }
      ]
    },
    {
      "cell_type": "markdown",
      "source": [
        "Token Sort Ratio"
      ],
      "metadata": {
        "id": "bGM73_nAQvvw"
      }
    },
    {
      "cell_type": "code",
      "source": [
        "fuzz.ratio(\"fuzzy wuzzy was a bear\", \"wuzzy fuzzy was a bear\")"
      ],
      "metadata": {
        "colab": {
          "base_uri": "https://localhost:8080/"
        },
        "id": "DVZlXS3VQxUu",
        "outputId": "b0771f00-7209-4cf9-bf61-0ba308d4b301"
      },
      "execution_count": null,
      "outputs": [
        {
          "output_type": "execute_result",
          "data": {
            "text/plain": [
              "91"
            ]
          },
          "metadata": {},
          "execution_count": 23
        }
      ]
    },
    {
      "cell_type": "code",
      "source": [
        "fuzz.token_sort_ratio(\"fuzzy wuzzy was a bear\", \"wuzzy fuzzy was a bear\")"
      ],
      "metadata": {
        "colab": {
          "base_uri": "https://localhost:8080/"
        },
        "id": "8TqsUWAqQ0zS",
        "outputId": "deb02cdb-3fdd-4415-9417-beacb6fc5d8a"
      },
      "execution_count": null,
      "outputs": [
        {
          "output_type": "execute_result",
          "data": {
            "text/plain": [
              "100"
            ]
          },
          "metadata": {},
          "execution_count": 24
        }
      ]
    },
    {
      "cell_type": "markdown",
      "source": [
        "Token Set Ratio"
      ],
      "metadata": {
        "id": "gOXG-jhJQ1aT"
      }
    },
    {
      "cell_type": "code",
      "source": [
        "fuzz.token_sort_ratio(\"fuzzy was a bear\", \"fuzzy fuzzy was a bear\")"
      ],
      "metadata": {
        "colab": {
          "base_uri": "https://localhost:8080/"
        },
        "id": "E_RhW7XoQ3Gf",
        "outputId": "4c45a1f5-687b-42eb-86b2-cc865ee7098d"
      },
      "execution_count": null,
      "outputs": [
        {
          "output_type": "execute_result",
          "data": {
            "text/plain": [
              "84"
            ]
          },
          "metadata": {},
          "execution_count": 25
        }
      ]
    },
    {
      "cell_type": "code",
      "source": [
        "fuzz.token_set_ratio(\"fuzzy was a bear\", \"fuzzy fuzzy was a bear\")"
      ],
      "metadata": {
        "colab": {
          "base_uri": "https://localhost:8080/"
        },
        "id": "1iIbzWg7Q5wh",
        "outputId": "c09f4d87-8adf-4853-f41d-904c289ad0f1"
      },
      "execution_count": null,
      "outputs": [
        {
          "output_type": "execute_result",
          "data": {
            "text/plain": [
              "100"
            ]
          },
          "metadata": {},
          "execution_count": 26
        }
      ]
    },
    {
      "cell_type": "markdown",
      "source": [
        "Process"
      ],
      "metadata": {
        "id": "dBoHRKZjQ7fk"
      }
    },
    {
      "cell_type": "code",
      "source": [
        "choices = [\"Atlanta Falcons\", \"New York Jets\", \"New York Giants\", \"Dallas Cowboys\"]"
      ],
      "metadata": {
        "id": "qA1funH4Q8Mn"
      },
      "execution_count": null,
      "outputs": []
    },
    {
      "cell_type": "code",
      "source": [
        "process.extract(\"new york jets\", choices, limit=2)"
      ],
      "metadata": {
        "colab": {
          "base_uri": "https://localhost:8080/"
        },
        "id": "eS_yAf4fQ-as",
        "outputId": "f0e0f4a4-a4cf-49cc-9756-04e0b8e15b2d"
      },
      "execution_count": null,
      "outputs": [
        {
          "output_type": "execute_result",
          "data": {
            "text/plain": [
              "[('New York Jets', 100), ('New York Giants', 79)]"
            ]
          },
          "metadata": {},
          "execution_count": 28
        }
      ]
    },
    {
      "cell_type": "code",
      "source": [
        "process.extractOne(\"cowboys\", choices)"
      ],
      "metadata": {
        "colab": {
          "base_uri": "https://localhost:8080/"
        },
        "id": "xdX7eEeHRBTa",
        "outputId": "d2901b4c-99b1-4912-bfea-7db72a61d97d"
      },
      "execution_count": null,
      "outputs": [
        {
          "output_type": "execute_result",
          "data": {
            "text/plain": [
              "('Dallas Cowboys', 90)"
            ]
          },
          "metadata": {},
          "execution_count": 29
        }
      ]
    },
    {
      "cell_type": "code",
      "source": [
        "process.extractOne(\"System of a down - Hypnotize - Heroes\", songs)"
      ],
      "metadata": {
        "id": "OCtxkQb0RC5m"
      },
      "execution_count": null,
      "outputs": []
    },
    {
      "cell_type": "code",
      "source": [
        "process.extractOne(\"System of a down - Hypnotize - Heroes\", songs, scorer=fuzz.token_sort_ratio)"
      ],
      "metadata": {
        "id": "VkmRBVB6RFM-"
      },
      "execution_count": null,
      "outputs": []
    }
  ]
}